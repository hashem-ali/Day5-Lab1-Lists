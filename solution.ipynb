{
 "cells": [
  {
   "cell_type": "markdown",
   "id": "a315e08f",
   "metadata": {},
   "source": [
    "# LAB_LISTS\n",
    "\n",
    "## Given the following list : [5, 4, 17, 19, 30, 2, 7, 10, 45]\n",
    "\n"
   ]
  },
  {
   "cell_type": "code",
   "execution_count": 1,
   "id": "0caa4716",
   "metadata": {},
   "outputs": [],
   "source": [
    "my_list = [5, 4, 17, 19, 30, 2, 7, 10, 45]\n"
   ]
  },
  {
   "cell_type": "markdown",
   "id": "b9c110b1",
   "metadata": {},
   "source": [
    "### Q1: Write a Python program to sum all the items in the list."
   ]
  },
  {
   "cell_type": "code",
   "execution_count": 4,
   "id": "90c19cf4",
   "metadata": {},
   "outputs": [
    {
     "data": {
      "text/plain": [
       "139"
      ]
     },
     "execution_count": 4,
     "metadata": {},
     "output_type": "execute_result"
    }
   ],
   "source": [
    "sum(my_list)"
   ]
  },
  {
   "cell_type": "markdown",
   "id": "0ab88edb",
   "metadata": {},
   "source": [
    "### Q2: Write a Python program to get the largest number from the list."
   ]
  },
  {
   "cell_type": "code",
   "execution_count": 5,
   "id": "3c7a63ee",
   "metadata": {},
   "outputs": [
    {
     "data": {
      "text/plain": [
       "45"
      ]
     },
     "execution_count": 5,
     "metadata": {},
     "output_type": "execute_result"
    }
   ],
   "source": [
    "max(my_list)"
   ]
  },
  {
   "cell_type": "markdown",
   "id": "c31636e2",
   "metadata": {},
   "source": [
    "### Q3: using List Comprehension , create a new list from the above list containing only even numbers.\n"
   ]
  },
  {
   "cell_type": "code",
   "execution_count": 6,
   "id": "4eb17325",
   "metadata": {},
   "outputs": [
    {
     "data": {
      "text/plain": [
       "[4, 30, 2, 10]"
      ]
     },
     "execution_count": 6,
     "metadata": {},
     "output_type": "execute_result"
    }
   ],
   "source": [
    "new_list = [item for item in my_list if item % 2 == 0]\n",
    "new_list"
   ]
  },
  {
   "cell_type": "markdown",
   "id": "94c077a4",
   "metadata": {},
   "source": [
    "### Q4: use list slicing to get a new list from the previous list starting from the start to the 5th element in the list.\n"
   ]
  },
  {
   "cell_type": "code",
   "execution_count": 7,
   "id": "a68fcf28",
   "metadata": {},
   "outputs": [
    {
     "data": {
      "text/plain": [
       "[5, 4, 17, 19, 30]"
      ]
     },
     "execution_count": 7,
     "metadata": {},
     "output_type": "execute_result"
    }
   ],
   "source": [
    "my_list[:5]"
   ]
  }
 ],
 "metadata": {
  "kernelspec": {
   "display_name": "Python 3 (ipykernel)",
   "language": "python",
   "name": "python3"
  },
  "language_info": {
   "codemirror_mode": {
    "name": "ipython",
    "version": 3
   },
   "file_extension": ".py",
   "mimetype": "text/x-python",
   "name": "python",
   "nbconvert_exporter": "python",
   "pygments_lexer": "ipython3",
   "version": "3.9.12"
  }
 },
 "nbformat": 4,
 "nbformat_minor": 5
}
